{
 "cells": [
  {
   "cell_type": "code",
   "execution_count": 2,
   "metadata": {},
   "outputs": [
    {
     "name": "stdout",
     "output_type": "stream",
     "text": [
      "enter: 1)the state : \n",
      "['A & N Islands' 'Andhra Pradesh' 'Arunachal Pradesh' 'Assam' 'Bihar'\n",
      " 'Chandigarh' 'Chhattisgarh' 'D & N Haveli' 'Daman & Diu' 'Delhi (Ut)'\n",
      " 'Goa' 'Gujarat' 'Haryana' 'Himachal Pradesh' 'Jammu & Kashmir'\n",
      " 'Jharkhand' 'Karnataka' 'Kerala' 'Lakshadweep' 'Madhya Pradesh'\n",
      " 'Maharashtra' 'Manipur' 'Meghalaya' 'Mizoram' 'Nagaland' 'Odisha'\n",
      " 'Puducherry' 'Punjab' 'Rajasthan' 'Sikkim' 'Tamil Nadu' 'Tripura'\n",
      " 'Uttar Pradesh' 'Uttarakhand' 'West Bengal']\n",
      "choiceDelhi (Ut)\n",
      "enter: 2)the time : \n",
      "['0-3 hrs. (Night)', '3-6 hrs. (Night)', '6-9 hrs (Day)', '9-12 hrs (Day)', '12-15 hrs (Day)', '15-18 hrs (Day)', '18-21 hrs (Night)', '21-24 hrs (Night)']\n",
      "choice18-21 hrs (Night)\n"
     ]
    },
    {
     "data": {
      "image/png": "[encoded data removed]",
      "text/plain": [
       "<Figure size 432x288 with 1 Axes>"
      ]
     },
     "metadata": {
      "needs_background": "light"
     },
     "output_type": "display_data"
    },
    {
     "name": "stdout",
     "output_type": "stream",
     "text": [
      "the number of average accidents which can occur in  18-21 hrs (Night)  in 2015  Delhi (Ut) is:\n",
      "1436\n"
     ]
    },
    {
     "data": {
      "text/plain": [
       "<Figure size 432x288 with 0 Axes>"
      ]
     },
     "metadata": {},
     "output_type": "display_data"
    }
   ],
   "source": [
    "from scipy.stats import norm\n",
    "from matplotlib import pyplot\n",
    "import pandas as pd\n",
    "import statistics\n",
    "import numpy as np \n",
    "\n",
    "def binarySearch(arr, l, r, x): \n",
    "  \n",
    "    while l < r: \n",
    "  \n",
    "        mid = int(l + (r - l)/2) \n",
    "        #print(mid)\n",
    "        # Check if x is present at mid \n",
    "        if mid == x: \n",
    "            return mid \n",
    "  \n",
    "        # If x is greater, ignore left half \n",
    "        elif mid < x: \n",
    "            l = mid + 1\n",
    "  \n",
    "        # If x is smaller, ignore right half \n",
    "        else: \n",
    "            r = mid - 1\n",
    "      \n",
    "    # If we reach here, then the element was not present \n",
    "    return l\n",
    "\n",
    "df = pd.read_csv(\"../../Datasets/only_road_accidents_data3.csv\",parse_dates=[0])\n",
    "#print(df[['STATE/UT','0-3 hrs. (Night)']])\n",
    "print(\"enter: 1)the state : \")\n",
    "print(np.unique(df[['STATE/UT']]))\n",
    "ch1=input(\"choice\")\n",
    "print(\"enter: 2)the time : \")\n",
    "print(['0-3 hrs. (Night)','3-6 hrs. (Night)','6-9 hrs (Day)','9-12 hrs (Day)','12-15 hrs (Day)','15-18 hrs (Day)','18-21 hrs (Night)','21-24 hrs (Night)'])\n",
    "ch2=input(\"choice\")\n",
    "ds=df[['STATE/UT',ch2]]\n",
    "\n",
    "lt=[]\n",
    "for a in enumerate(ds['STATE/UT']):\n",
    "    if(a[1]==ch1):\n",
    "       # print(a)\n",
    "        lt.append(ds[ch2][a[0]])\n",
    "#print(lt)\n",
    "     \n",
    "\n",
    "# define distribution parameters\n",
    "mu = statistics.mean(lt)\n",
    "\n",
    "sigma = statistics.stdev(lt)\n",
    "\n",
    "# create distribution\n",
    "dist = norm(mu, sigma)\n",
    "# plot pdf\n",
    "values = [value for value in lt]\n",
    "#print(values)\n",
    "valu=np.unique(np.array(lt))\n",
    "#print(valu)\n",
    "probabilities = [dist.pdf(value) for value in valu]\n",
    "pyplot.plot(valu, probabilities)\n",
    "pyplot.show()\n",
    "\n",
    "#print(np.array(lt))\n",
    "result = binarySearch(np.array(lt), np.array(lt).min(), np.array(lt).max(), mu) \n",
    "prob = dist.pdf(result)\n",
    "print(\"the number of average accidents which can occur in \",ch2,\" in 2015 \",ch1,\"is:\")\n",
    "print(result)\n",
    "\n",
    "\n",
    "pyplot.savefig('3_normal_distribution.png', dpi=300, bbox_inches='tight')\n"
   ]
  },
  {
   "cell_type": "code",
   "execution_count": null,
   "metadata": {},
   "outputs": [],
   "source": []
  }
 ],
 "metadata": {
  "kernelspec": {
   "display_name": "Python 3",
   "language": "python",
   "name": "python3"
  },
  "language_info": {
   "codemirror_mode": {
    "name": "ipython",
    "version": 3
   },
   "file_extension": ".py",
   "mimetype": "text/x-python",
   "name": "python",
   "nbconvert_exporter": "python",
   "pygments_lexer": "ipython3",
   "version": "3.7.4"
  }
 },
 "nbformat": 4,
 "nbformat_minor": 2
}
